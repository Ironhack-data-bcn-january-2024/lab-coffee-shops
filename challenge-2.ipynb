{
 "cells": [
  {
   "cell_type": "markdown",
   "id": "0809e785",
   "metadata": {},
   "source": [
    "# 1. Import the necessary libraries for you to be able to query 4square API"
   ]
  },
  {
   "cell_type": "code",
   "execution_count": 27,
   "id": "9b373771",
   "metadata": {},
   "outputs": [
    {
     "name": "stderr",
     "output_type": "stream",
     "text": [
      "C:\\Users\\carls\\AppData\\Local\\Temp\\ipykernel_10920\\2558897901.py:3: DeprecationWarning: \n",
      "Pyarrow will become a required dependency of pandas in the next major release of pandas (pandas 3.0),\n",
      "(to allow more performant data types, such as the Arrow string type, and better interoperability with other libraries)\n",
      "but was not found to be installed on your system.\n",
      "If this would cause problems for you,\n",
      "please provide us feedback at https://github.com/pandas-dev/pandas/issues/54466\n",
      "        \n",
      "  import pandas as pd\n"
     ]
    }
   ],
   "source": [
    "import requests\n",
    "import json\n",
    "import pandas as pd\n",
    "from getpass import getpass"
   ]
  },
  {
   "cell_type": "code",
   "execution_count": 37,
   "id": "28954b60",
   "metadata": {},
   "outputs": [
    {
     "name": "stdout",
     "output_type": "stream",
     "text": [
      "········\n"
     ]
    }
   ],
   "source": [
    "token = getpass()\n"
   ]
  },
  {
   "cell_type": "markdown",
   "id": "e94dce92",
   "metadata": {},
   "source": [
    "# 2. Get names and location of the 10 coffee places by passing Ironhack as your location"
   ]
  },
  {
   "cell_type": "code",
   "execution_count": 46,
   "id": "1d72f571",
   "metadata": {},
   "outputs": [
    {
     "data": {
      "text/plain": [
       "{'message': 'Invalid request token.'}"
      ]
     },
     "execution_count": 46,
     "metadata": {},
     "output_type": "execute_result"
    }
   ],
   "source": [
    "import requests\n",
    "\n",
    "url = \"https://api.foursquare.com/v3/places/search?ll=41.39781855688728%2C2.1905818938957395&categoryId=11126&sort=DISTANCE\"\n",
    "\n",
    "headers = {\n",
    "    \"accept\": \"application/json\",\n",
    "    \"Authorization\": \"\"\n",
    "}\n",
    "\n",
    "response = requests.get(url, headers=headers)\n",
    "\n",
    "\n",
    "response.json()"
   ]
  },
  {
   "cell_type": "markdown",
   "id": "941b5dbf",
   "metadata": {},
   "source": [
    "# 3. Now get the 5 CLOSEST coffe places. Make use of params: limit, near?"
   ]
  },
  {
   "cell_type": "code",
   "execution_count": 39,
   "id": "ab681923",
   "metadata": {},
   "outputs": [
    {
     "name": "stdout",
     "output_type": "stream",
     "text": [
      "{\"results\":[],\"context\":{\"geo_bounds\":{\"circle\":{\"center\":{\"latitude\":41.39781855688728,\"longitude\":-2.1905818938957395},\"radius\":22000}}}}\n"
     ]
    }
   ],
   "source": [
    "import requests\n",
    "\n",
    "url = \"https://api.foursquare.com/v3/places/search?ll=41.39781855688728%2C-2.1905818938957395&categories=11126&sort=DISTANCE&limit=5\"\n",
    "\n",
    "headers = {\n",
    "    \"accept\": \"application/json\",\n",
    "    \"Authorization\": \"fsq3DObGXpjB+PtRhPQIuLZluQHZtDgdWfmZtchCfc5qeSc=\"\n",
    "}\n",
    "\n",
    "response = requests.get(url, headers=headers)\n",
    "\n",
    "print(response.text)"
   ]
  },
  {
   "cell_type": "code",
   "execution_count": 40,
   "id": "fda8ddff",
   "metadata": {},
   "outputs": [
    {
     "data": {
      "text/plain": [
       "{'results': [],\n",
       " 'context': {'geo_bounds': {'circle': {'center': {'latitude': 41.39781855688728,\n",
       "     'longitude': 2.1905818938957395},\n",
       "    'radius': 22000}}}}"
      ]
     },
     "execution_count": 40,
     "metadata": {},
     "output_type": "execute_result"
    }
   ],
   "source": [
    "import requests\n",
    "\n",
    "url = \"https://api.foursquare.com/v3/places/search?ll=41.39781855688728%2C2.1905818938957395&categories=11126&sort=DISTANCE&limit=5\"\n",
    "\n",
    "headers = {\n",
    "    \"accept\": \"application/json\",\n",
    "    \"Authorization\": \"fsq3DObGXpjB+PtRhPQIuLZluQHZtDgdWfmZtchCfc5qeSc=\"\n",
    "}\n",
    "\n",
    "response = requests.get(url, headers=headers)\n",
    "\n",
    "response.json()"
   ]
  },
  {
   "cell_type": "markdown",
   "id": "d19904e8",
   "metadata": {},
   "source": [
    "# 4. You're very drained from the bootcamp. You need to find a bar where you are right now. "
   ]
  },
  {
   "cell_type": "markdown",
   "id": "24e81d17",
   "metadata": {},
   "source": [
    "But your colleague needs to find starbucks to work on the bonus. Your other colleage is not sure about what they want. Create a function so that you can pass any given venue (startbucks, restaurants, bars...) for any given location passed as coordinates. Limit your queries to 3."
   ]
  },
  {
   "cell_type": "code",
   "execution_count": 41,
   "id": "1fad5153",
   "metadata": {},
   "outputs": [
    {
     "data": {
      "text/plain": [
       "{'results': [{'fsq_id': '4faf71a5e4b0861eacfb9876',\n",
       "   'categories': [{'id': 13003,\n",
       "     'name': 'Bar',\n",
       "     'short_name': 'Bar',\n",
       "     'plural_name': 'Bars',\n",
       "     'icon': {'prefix': 'https://ss3.4sqi.net/img/categories_v2/nightlife/pub_',\n",
       "      'suffix': '.png'}}],\n",
       "   'chains': [],\n",
       "   'closed_bucket': 'LikelyOpen',\n",
       "   'distance': 11071,\n",
       "   'geocodes': {'main': {'latitude': 41.307218, 'longitude': -2.135365}},\n",
       "   'link': '/v3/places/4faf71a5e4b0861eacfb9876',\n",
       "   'location': {'address': 'Plaza del Reino de Aragon, s/n',\n",
       "    'admin_region': 'Aragón',\n",
       "    'country': 'ES',\n",
       "    'cross_street': '',\n",
       "    'formatted_address': 'Plaza del Reino de Aragon, s/n, 44510 La Puebla de Híjar Teruel',\n",
       "    'locality': 'La Puebla de Híjar',\n",
       "    'postcode': '44510',\n",
       "    'region': 'Teruel'},\n",
       "   'name': 'Bar Aragon',\n",
       "   'related_places': {},\n",
       "   'timezone': 'Europe/Madrid'},\n",
       "  {'fsq_id': '508a742ce4b0a533e038bf43',\n",
       "   'categories': [{'id': 13065,\n",
       "     'name': 'Restaurant',\n",
       "     'short_name': 'Restaurant',\n",
       "     'plural_name': 'Restaurants',\n",
       "     'icon': {'prefix': 'https://ss3.4sqi.net/img/categories_v2/food/default_',\n",
       "      'suffix': '.png'}}],\n",
       "   'chains': [],\n",
       "   'closed_bucket': 'VeryLikelyOpen',\n",
       "   'distance': 11495,\n",
       "   'geocodes': {'drop_off': {'latitude': 41.308442, 'longitude': -2.122903},\n",
       "    'main': {'latitude': 41.308434, 'longitude': -2.1229}},\n",
       "   'link': '/v3/places/508a742ce4b0a533e038bf43',\n",
       "   'location': {'address': 'Autovia Autovía del Nordeste, Km 186,186',\n",
       "    'address_extended': 'Bajo',\n",
       "    'admin_region': 'Aragón',\n",
       "    'country': 'ES',\n",
       "    'cross_street': '',\n",
       "    'formatted_address': 'Autovia Autovía del Nordeste, Km 186,186, 50291 Monreal de Ariza Zaragoza',\n",
       "    'locality': 'Monreal de Ariza',\n",
       "    'postcode': '50291',\n",
       "    'region': 'Zaragoza'},\n",
       "   'name': 'Castilla y Aragón',\n",
       "   'related_places': {},\n",
       "   'timezone': 'Europe/Madrid'},\n",
       "  {'fsq_id': '5bbf3d1e5ba046002cc12435',\n",
       "   'categories': [{'id': 12069,\n",
       "     'name': 'Government Department',\n",
       "     'short_name': 'Government Department',\n",
       "     'plural_name': 'Government Departments',\n",
       "     'icon': {'prefix': 'https://ss3.4sqi.net/img/categories_v2/building/default_',\n",
       "      'suffix': '.png'}}],\n",
       "   'chains': [],\n",
       "   'closed_bucket': 'VeryLikelyOpen',\n",
       "   'distance': 13791,\n",
       "   'geocodes': {'main': {'latitude': 41.291845, 'longitude': -2.104417}},\n",
       "   'link': '/v3/places/5bbf3d1e5ba046002cc12435',\n",
       "   'location': {'address': 'Calle Mayor, 1',\n",
       "    'admin_region': 'Aragón',\n",
       "    'country': 'ES',\n",
       "    'cross_street': '',\n",
       "    'formatted_address': 'Calle Mayor, 1, 50291 Monreal de Ariza Aragón',\n",
       "    'locality': 'Monreal de Ariza',\n",
       "    'postcode': '50291',\n",
       "    'region': 'Aragón'},\n",
       "   'name': 'Ayuntamiento de Monreal de Ariza',\n",
       "   'related_places': {},\n",
       "   'timezone': 'Europe/Madrid'}],\n",
       " 'context': {'geo_bounds': {'circle': {'center': {'latitude': 41.39781855688728,\n",
       "     'longitude': -2.1905818938957395},\n",
       "    'radius': 22000}}}}"
      ]
     },
     "execution_count": 41,
     "metadata": {},
     "output_type": "execute_result"
    }
   ],
   "source": [
    "def foursquare_places (venue, coordinates):\n",
    "    import requests\n",
    "\n",
    "    url = f\"https://api.foursquare.com/v3/places/search?query={venue}&ll={coordinates}&sort=DISTANCE&limit=3\"\n",
    "    headers = {\n",
    "        \"accept\": \"application/json\",\n",
    "        \"Authorization\": \"fsq3DObGXpjB+PtRhPQIuLZluQHZtDgdWfmZtchCfc5qeSc=\"\n",
    "    }\n",
    "\n",
    "    response = requests.get(url, headers=headers)\n",
    "\n",
    "    return response.json()\n",
    "foursquare_places(\"bar\", \"41.39781855688728,-2.1905818938957395\")"
   ]
  },
  {
   "cell_type": "code",
   "execution_count": 42,
   "id": "eee28be1",
   "metadata": {},
   "outputs": [],
   "source": [
    "# ej:  drinks = foursquare_places (\"starbucks\", [43, -3])"
   ]
  },
  {
   "cell_type": "code",
   "execution_count": 43,
   "id": "00cd424b",
   "metadata": {},
   "outputs": [],
   "source": [
    "# ej:  drinks = foursquare_places (\"bar\", [43, -2])"
   ]
  },
  {
   "cell_type": "code",
   "execution_count": 44,
   "id": "86fcfc50",
   "metadata": {},
   "outputs": [],
   "source": [
    "# ej:  drinks = foursquare_places (\"spa\", [39, -3])"
   ]
  },
  {
   "cell_type": "markdown",
   "id": "1836c1a1",
   "metadata": {},
   "source": [
    "# 5. Export it into data folder as a json: `data/coffe_or_alcohol.json`"
   ]
  },
  {
   "cell_type": "markdown",
   "id": "c3ada1da",
   "metadata": {},
   "source": [
    "Call the function for your colleague, who wanted starbucks, and export the results of the three starbucks into a json file"
   ]
  },
  {
   "cell_type": "code",
   "execution_count": 45,
   "id": "7ac5f2a8",
   "metadata": {},
   "outputs": [
    {
     "ename": "FileNotFoundError",
     "evalue": "[Errno 2] No such file or directory: 'lab-coffee-shops/coffee_or_alcohol.json'",
     "output_type": "error",
     "traceback": [
      "\u001b[1;31m---------------------------------------------------------------------------\u001b[0m",
      "\u001b[1;31mFileNotFoundError\u001b[0m                         Traceback (most recent call last)",
      "Cell \u001b[1;32mIn[45], line 3\u001b[0m\n\u001b[0;32m      1\u001b[0m file_path \u001b[38;5;241m=\u001b[39m \u001b[38;5;124m\"\u001b[39m\u001b[38;5;124mlab-coffee-shops/coffee_or_alcohol.json\u001b[39m\u001b[38;5;124m\"\u001b[39m\n\u001b[1;32m----> 3\u001b[0m \u001b[38;5;28;01mwith\u001b[39;00m \u001b[38;5;28mopen\u001b[39m(file_path, \u001b[38;5;124m'\u001b[39m\u001b[38;5;124mw\u001b[39m\u001b[38;5;124m'\u001b[39m) \u001b[38;5;28;01mas\u001b[39;00m json_file:\n\u001b[0;32m      4\u001b[0m     json\u001b[38;5;241m.\u001b[39mdump(data, json_file, indent\u001b[38;5;241m=\u001b[39m\u001b[38;5;241m2\u001b[39m)\n\u001b[0;32m      6\u001b[0m \u001b[38;5;28mprint\u001b[39m(\u001b[38;5;124mf\u001b[39m\u001b[38;5;124m\"\u001b[39m\u001b[38;5;124mData exported to \u001b[39m\u001b[38;5;132;01m{\u001b[39;00mfile_path\u001b[38;5;132;01m}\u001b[39;00m\u001b[38;5;124m\"\u001b[39m)\n",
      "File \u001b[1;32m~\\miniconda3\\envs\\ironhack\\Lib\\site-packages\\IPython\\core\\interactiveshell.py:286\u001b[0m, in \u001b[0;36m_modified_open\u001b[1;34m(file, *args, **kwargs)\u001b[0m\n\u001b[0;32m    279\u001b[0m \u001b[38;5;28;01mif\u001b[39;00m file \u001b[38;5;129;01min\u001b[39;00m {\u001b[38;5;241m0\u001b[39m, \u001b[38;5;241m1\u001b[39m, \u001b[38;5;241m2\u001b[39m}:\n\u001b[0;32m    280\u001b[0m     \u001b[38;5;28;01mraise\u001b[39;00m \u001b[38;5;167;01mValueError\u001b[39;00m(\n\u001b[0;32m    281\u001b[0m         \u001b[38;5;124mf\u001b[39m\u001b[38;5;124m\"\u001b[39m\u001b[38;5;124mIPython won\u001b[39m\u001b[38;5;124m'\u001b[39m\u001b[38;5;124mt let you open fd=\u001b[39m\u001b[38;5;132;01m{\u001b[39;00mfile\u001b[38;5;132;01m}\u001b[39;00m\u001b[38;5;124m by default \u001b[39m\u001b[38;5;124m\"\u001b[39m\n\u001b[0;32m    282\u001b[0m         \u001b[38;5;124m\"\u001b[39m\u001b[38;5;124mas it is likely to crash IPython. If you know what you are doing, \u001b[39m\u001b[38;5;124m\"\u001b[39m\n\u001b[0;32m    283\u001b[0m         \u001b[38;5;124m\"\u001b[39m\u001b[38;5;124myou can use builtins\u001b[39m\u001b[38;5;124m'\u001b[39m\u001b[38;5;124m open.\u001b[39m\u001b[38;5;124m\"\u001b[39m\n\u001b[0;32m    284\u001b[0m     )\n\u001b[1;32m--> 286\u001b[0m \u001b[38;5;28;01mreturn\u001b[39;00m io_open(file, \u001b[38;5;241m*\u001b[39margs, \u001b[38;5;241m*\u001b[39m\u001b[38;5;241m*\u001b[39mkwargs)\n",
      "\u001b[1;31mFileNotFoundError\u001b[0m: [Errno 2] No such file or directory: 'lab-coffee-shops/coffee_or_alcohol.json'"
     ]
    }
   ],
   "source": [
    "file_path = \"data/coffee_or_alcohol.json\"\n",
    "\n",
    "with open(file_path, 'w') as json_file:\n",
    "    json.dump(data, json_file, indent=2)\n",
    "\n",
    "print(f\"Data exported to {file_path}\")"
   ]
  },
  {
   "cell_type": "markdown",
   "id": "2d77e99d",
   "metadata": {},
   "source": [
    "# BONUS: load it into MongoDB in a collection named \"irondrinks\" using pymongo"
   ]
  },
  {
   "cell_type": "code",
   "execution_count": null,
   "id": "85b94955",
   "metadata": {},
   "outputs": [],
   "source": [
    "# your code here"
   ]
  }
 ],
 "metadata": {
  "kernelspec": {
   "display_name": "ironhack",
   "language": "python",
   "name": "ironhack"
  },
  "language_info": {
   "codemirror_mode": {
    "name": "ipython",
    "version": 3
   },
   "file_extension": ".py",
   "mimetype": "text/x-python",
   "name": "python",
   "nbconvert_exporter": "python",
   "pygments_lexer": "ipython3",
   "version": "3.11.5"
  },
  "nbTranslate": {
   "displayLangs": [
    "en",
    "es"
   ],
   "hotkey": "alt-a",
   "langInMainMenu": true,
   "sourceLang": "es",
   "targetLang": "en",
   "useGoogleTranslate": true
  },
  "toc": {
   "base_numbering": 1,
   "nav_menu": {},
   "number_sections": true,
   "sideBar": true,
   "skip_h1_title": false,
   "title_cell": "Table of Contents",
   "title_sidebar": "Contents",
   "toc_cell": false,
   "toc_position": {},
   "toc_section_display": true,
   "toc_window_display": false
  }
 },
 "nbformat": 4,
 "nbformat_minor": 5
}
