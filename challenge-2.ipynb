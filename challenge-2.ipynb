{
 "cells": [
  {
   "cell_type": "markdown",
   "id": "0809e785",
   "metadata": {},
   "source": [
    "# 1. Import the necessary libraries for you to be able to query 4square API"
   ]
  },
  {
   "cell_type": "code",
   "execution_count": 2,
   "id": "9b373771",
   "metadata": {},
   "outputs": [],
   "source": [
    "import requests\n",
    "import json\n",
    "import pandas as pd\n",
    "from getpass import getpass"
   ]
  },
  {
   "cell_type": "markdown",
   "id": "e94dce92",
   "metadata": {},
   "source": [
    "# 2. Get names and location of the 10 coffee places by passing Ironhack as your location"
   ]
  },
  {
   "cell_type": "code",
   "execution_count": 9,
   "id": "c3f45585",
   "metadata": {},
   "outputs": [
    {
     "name": "stdout",
     "output_type": "stream",
     "text": [
      "Enter your token: ········\n"
     ]
    }
   ],
   "source": [
    "import getpass\n",
    "\n",
    "token = getpass.getpass(\"Enter your token: \")"
   ]
  },
  {
   "cell_type": "code",
   "execution_count": 14,
   "id": "1d72f571",
   "metadata": {},
   "outputs": [
    {
     "name": "stdout",
     "output_type": "stream",
     "text": [
      "{\"results\":[{\"fsq_id\":\"556d6217498ef50c5d323048\",\"categories\":[{\"id\":13003,\"name\":\"Bar\",\"short_name\":\"Bar\",\"plural_name\":\"Bars\",\"icon\":{\"prefix\":\"https://ss3.4sqi.net/img/categories_v2/nightlife/pub_\",\"suffix\":\".png\"}},{\"id\":13035,\"name\":\"Coffee Shop\",\"short_name\":\"Coffee Shop\",\"plural_name\":\"Coffee Shops\",\"icon\":{\"prefix\":\"https://ss3.4sqi.net/img/categories_v2/food/coffeeshop_\",\"suffix\":\".png\"}}],\"chains\":[],\"closed_bucket\":\"VeryLikelyOpen\",\"distance\":462,\"geocodes\":{\"main\":{\"latitude\":41.397977,\"longitude\":2.195589},\"roof\":{\"latitude\":41.397977,\"longitude\":2.195589}},\"link\":\"/v3/places/556d6217498ef50c5d323048\",\"location\":{\"address\":\"Calle de Pujades, 95\",\"admin_region\":\"Cataluña\",\"country\":\"ES\",\"cross_street\":\"C. de Badajoz\",\"formatted_address\":\"Calle de Pujades, 95 (C. de Badajoz), 08005 Barcelona\",\"locality\":\"Barcelona\",\"postcode\":\"08005\"},\"name\":\"Nømad Roaster's Home\",\"related_places\":{},\"timezone\":\"Europe/Madrid\"},{\"fsq_id\":\"5b8521d489e490002cefef18\",\"categories\":[{\"id\":13035,\"name\":\"Coffee Shop\",\"short_name\":\"Coffee Shop\",\"plural_name\":\"Coffee Shops\",\"icon\":{\"prefix\":\"https://ss3.4sqi.net/img/categories_v2/food/coffeeshop_\",\"suffix\":\".png\"}},{\"id\":13065,\"name\":\"Restaurant\",\"short_name\":\"Restaurant\",\"plural_name\":\"Restaurants\",\"icon\":{\"prefix\":\"https://ss3.4sqi.net/img/categories_v2/food/default_\",\"suffix\":\".png\"}}],\"chains\":[],\"closed_bucket\":\"VeryLikelyOpen\",\"distance\":564,\"geocodes\":{\"main\":{\"latitude\":41.397168,\"longitude\":2.183123},\"roof\":{\"latitude\":41.397168,\"longitude\":2.183123}},\"link\":\"/v3/places/5b8521d489e490002cefef18\",\"location\":{\"address\":\"Calle D'Ausiàs Marc, 151\",\"admin_region\":\"Cataluña\",\"country\":\"ES\",\"formatted_address\":\"Calle D'Ausiàs Marc, 151, 08013 Barcelona Catalunya\",\"locality\":\"Barcelona\",\"postcode\":\"08013\",\"region\":\"Catalunya\"},\"name\":\"Three Marks Coffee\",\"related_places\":{},\"timezone\":\"Europe/Madrid\"},{\"fsq_id\":\"5af2b83ee7a237002c007e3c\",\"categories\":[{\"id\":13377,\"name\":\"Vegan and Vegetarian Restaurant\",\"short_name\":\"Vegan and Vegetarian Restaurant\",\"plural_name\":\"Vegan and Vegetarian Restaurants\",\"icon\":{\"prefix\":\"https://ss3.4sqi.net/img/categories_v2/food/vegetarian_\",\"suffix\":\".png\"}}],\"chains\":[],\"closed_bucket\":\"VeryLikelyOpen\",\"distance\":771,\"geocodes\":{\"drop_off\":{\"latitude\":41.402429,\"longitude\":2.197447},\"main\":{\"latitude\":41.402328,\"longitude\":2.197571},\"roof\":{\"latitude\":41.402328,\"longitude\":2.197571}},\"link\":\"/v3/places/5af2b83ee7a237002c007e3c\",\"location\":{\"address\":\"Calle Pere IV, 168\",\"admin_region\":\"Cataluña\",\"country\":\"ES\",\"cross_street\":\"C. Llacuna\",\"formatted_address\":\"Calle Pere IV, 168 (C. Llacuna), 08005 Barcelona Catalunya\",\"locality\":\"Barcelona\",\"postcode\":\"08005\",\"region\":\"Catalunya\"},\"name\":\"Little Fern\",\"related_places\":{},\"timezone\":\"Europe/Madrid\"},{\"fsq_id\":\"522a30c111d2768695717a75\",\"categories\":[{\"id\":13003,\"name\":\"Bar\",\"short_name\":\"Bar\",\"plural_name\":\"Bars\",\"icon\":{\"prefix\":\"https://ss3.4sqi.net/img/categories_v2/nightlife/pub_\",\"suffix\":\".png\"}},{\"id\":13034,\"name\":\"Café\",\"short_name\":\"Café\",\"plural_name\":\"Cafés\",\"icon\":{\"prefix\":\"https://ss3.4sqi.net/img/categories_v2/food/cafe_\",\"suffix\":\".png\"}},{\"id\":13065,\"name\":\"Restaurant\",\"short_name\":\"Restaurant\",\"plural_name\":\"Restaurants\",\"icon\":{\"prefix\":\"https://ss3.4sqi.net/img/categories_v2/food/default_\",\"suffix\":\".png\"}}],\"chains\":[],\"closed_bucket\":\"LikelyOpen\",\"distance\":1188,\"geocodes\":{\"drop_off\":{\"latitude\":41.400885,\"longitude\":2.203768},\"main\":{\"latitude\":41.400907,\"longitude\":2.203782},\"roof\":{\"latitude\":41.400907,\"longitude\":2.203782}},\"link\":\"/v3/places/522a30c111d2768695717a75\",\"location\":{\"address\":\"Carrer de Maria Aguilo, 99\",\"admin_region\":\"Cataluña\",\"country\":\"ES\",\"cross_street\":\"\",\"formatted_address\":\"Carrer de Maria Aguilo, 99, 08005 Barcelona Catalunya\",\"locality\":\"Barcelona\",\"postcode\":\"08005\",\"region\":\"Catalunya\"},\"name\":\"Ideal Poblenou\",\"related_places\":{},\"timezone\":\"Europe/Madrid\"},{\"fsq_id\":\"612fa77f21805f0d98b27ea6\",\"categories\":[{\"id\":13035,\"name\":\"Coffee Shop\",\"short_name\":\"Coffee Shop\",\"plural_name\":\"Coffee Shops\",\"icon\":{\"prefix\":\"https://ss3.4sqi.net/img/categories_v2/food/coffeeshop_\",\"suffix\":\".png\"}},{\"id\":13065,\"name\":\"Restaurant\",\"short_name\":\"Restaurant\",\"plural_name\":\"Restaurants\",\"icon\":{\"prefix\":\"https://ss3.4sqi.net/img/categories_v2/food/default_\",\"suffix\":\".png\"}}],\"chains\":[],\"closed_bucket\":\"VeryLikelyOpen\",\"distance\":1284,\"geocodes\":{\"drop_off\":{\"latitude\":41.40193,\"longitude\":2.175611},\"main\":{\"latitude\":41.401762,\"longitude\":2.175735},\"roof\":{\"latitude\":41.401762,\"longitude\":2.175735}},\"link\":\"/v3/places/612fa77f21805f0d98b27ea6\",\"location\":{\"address\":\"Calle Valencia, 418\",\"admin_region\":\"Cataluña\",\"country\":\"ES\",\"cross_street\":\"\",\"formatted_address\":\"Calle Valencia, 418, 08013 Barcelona Catalunya\",\"locality\":\"Barcelona\",\"postcode\":\"08013\",\"region\":\"Catalunya\"},\"name\":\"Blackbird Coffee Corner\",\"related_places\":{},\"timezone\":\"Europe/Madrid\"},{\"fsq_id\":\"569b92b5498e7d195229c6de\",\"categories\":[{\"id\":19014,\"name\":\"Hotel\",\"short_name\":\"Hotel\",\"plural_name\":\"Hotels\",\"icon\":{\"prefix\":\"https://ss3.4sqi.net/img/categories_v2/travel/hotel_\",\"suffix\":\".png\"}},{\"id\":13065,\"name\":\"Restaurant\",\"short_name\":\"Restaurant\",\"plural_name\":\"Restaurants\",\"icon\":{\"prefix\":\"https://ss3.4sqi.net/img/categories_v2/food/default_\",\"suffix\":\".png\"}}],\"chains\":[],\"closed_bucket\":\"VeryLikelyOpen\",\"distance\":1411,\"geocodes\":{\"main\":{\"latitude\":41.393575,\"longitude\":2.174295},\"roof\":{\"latitude\":41.393575,\"longitude\":2.174295}},\"link\":\"/v3/places/569b92b5498e7d195229c6de\",\"location\":{\"address\":\"Gran Vía de Les Corts Catalanes, 700\",\"admin_region\":\"Cataluña\",\"country\":\"ES\",\"cross_street\":\"C. de Bailén\",\"formatted_address\":\"Gran Vía de Les Corts Catalanes, 700 (C. de Bailén), 08010 Barcelona Catalunya\",\"locality\":\"Barcelona\",\"postcode\":\"08010\",\"region\":\"Catalunya\"},\"name\":\"Hotel Casa Bonay\",\"related_places\":{\"children\":[{\"fsq_id\":\"63b574d81e6cbf13c7258409\",\"categories\":[{\"id\":13035,\"name\":\"Coffee Shop\",\"short_name\":\"Coffee Shop\",\"plural_name\":\"Coffee Shops\",\"icon\":{\"prefix\":\"https://ss3.4sqi.net/img/categories_v2/food/coffeeshop_\",\"suffix\":\".png\"}}],\"name\":\"Nomad Casa Bonay\"},{\"fsq_id\":\"56cf71b0cd105c88684723da\",\"categories\":[{\"id\":13009,\"name\":\"Cocktail Bar\",\"short_name\":\"Cocktail\",\"plural_name\":\"Cocktail Bars\",\"icon\":{\"prefix\":\"https://ss3.4sqi.net/img/categories_v2/nightlife/cocktails_\",\"suffix\":\".png\"}},{\"id\":13065,\"name\":\"Restaurant\",\"short_name\":\"Restaurant\",\"plural_name\":\"Restaurants\",\"icon\":{\"prefix\":\"https://ss3.4sqi.net/img/categories_v2/food/default_\",\"suffix\":\".png\"}}],\"name\":\"Libertine\"},{\"fsq_id\":\"5bf06f7031ac6c002cac294a\",\"categories\":[{\"id\":13065,\"name\":\"Restaurant\",\"short_name\":\"Restaurant\",\"plural_name\":\"Restaurants\",\"icon\":{\"prefix\":\"https://ss3.4sqi.net/img/categories_v2/food/default_\",\"suffix\":\".png\"}}],\"name\":\"King Kong Lady\"}]},\"timezone\":\"Europe/Madrid\"},{\"fsq_id\":\"52fafeb4498e411285ad33be\",\"categories\":[{\"id\":13003,\"name\":\"Bar\",\"short_name\":\"Bar\",\"plural_name\":\"Bars\",\"icon\":{\"prefix\":\"https://ss3.4sqi.net/img/categories_v2/nightlife/pub_\",\"suffix\":\".png\"}},{\"id\":13034,\"name\":\"Café\",\"short_name\":\"Café\",\"plural_name\":\"Cafés\",\"icon\":{\"prefix\":\"https://ss3.4sqi.net/img/categories_v2/food/cafe_\",\"suffix\":\".png\"}},{\"id\":13035,\"name\":\"Coffee Shop\",\"short_name\":\"Coffee Shop\",\"plural_name\":\"Coffee Shops\",\"icon\":{\"prefix\":\"https://ss3.4sqi.net/img/categories_v2/food/coffeeshop_\",\"suffix\":\".png\"}}],\"chains\":[],\"closed_bucket\":\"LikelyOpen\",\"distance\":1466,\"geocodes\":{\"drop_off\":{\"latitude\":41.388916,\"longitude\":2.177114},\"main\":{\"latitude\":41.388989,\"longitude\":2.177167},\"roof\":{\"latitude\":41.388989,\"longitude\":2.177167}},\"link\":\"/v3/places/52fafeb4498e411285ad33be\",\"location\":{\"address\":\"Pasatge Sert, 12\",\"admin_region\":\"Cataluña\",\"country\":\"ES\",\"cross_street\":\"C. de Trafalgar\",\"formatted_address\":\"Pasatge Sert, 12 (C. de Trafalgar), 08003 Barcelona Catalunya\",\"locality\":\"Barcelona\",\"postcode\":\"08003\",\"region\":\"Catalunya\"},\"name\":\"Nømad Coffee Lab & Shop\",\"related_places\":{\"children\":[]},\"timezone\":\"Europe/Madrid\"},{\"fsq_id\":\"6188dad44d2e82263ebc56b1\",\"categories\":[{\"id\":13034,\"name\":\"Café\",\"short_name\":\"Café\",\"plural_name\":\"Cafés\",\"icon\":{\"prefix\":\"https://ss3.4sqi.net/img/categories_v2/food/cafe_\",\"suffix\":\".png\"}},{\"id\":13039,\"name\":\"Deli\",\"short_name\":\"Deli\",\"plural_name\":\"Delis\",\"icon\":{\"prefix\":\"https://ss3.4sqi.net/img/categories_v2/food/deli_\",\"suffix\":\".png\"}}],\"chains\":[],\"closed_bucket\":\"VeryLikelyOpen\",\"distance\":1483,\"geocodes\":{\"drop_off\":{\"latitude\":41.394919,\"longitude\":2.172901},\"main\":{\"latitude\":41.394916,\"longitude\":2.172866},\"roof\":{\"latitude\":41.394916,\"longitude\":2.172866}},\"link\":\"/v3/places/6188dad44d2e82263ebc56b1\",\"location\":{\"address\":\"Carrer de la Diputació, 347\",\"admin_region\":\"Cataluña\",\"country\":\"ES\",\"cross_street\":\"\",\"formatted_address\":\"Carrer de la Diputació, 347, 08009 Barcelona Catalunya\",\"locality\":\"Barcelona\",\"postcode\":\"08009\",\"region\":\"Catalunya\"},\"name\":\"Funky Bakers\",\"related_places\":{},\"timezone\":\"Europe/Madrid\"},{\"fsq_id\":\"5e189124b0c8f90008d57fed\",\"categories\":[{\"id\":13035,\"name\":\"Coffee Shop\",\"short_name\":\"Coffee Shop\",\"plural_name\":\"Coffee Shops\",\"icon\":{\"prefix\":\"https://ss3.4sqi.net/img/categories_v2/food/coffeeshop_\",\"suffix\":\".png\"}},{\"id\":13065,\"name\":\"Restaurant\",\"short_name\":\"Restaurant\",\"plural_name\":\"Restaurants\",\"icon\":{\"prefix\":\"https://ss3.4sqi.net/img/categories_v2/food/default_\",\"suffix\":\".png\"}}],\"chains\":[],\"closed_bucket\":\"VeryLikelyOpen\",\"distance\":1582,\"geocodes\":{\"main\":{\"latitude\":41.405842,\"longitude\":2.205885}},\"link\":\"/v3/places/5e189124b0c8f90008d57fed\",\"location\":{\"address\":\"Calle de Bac de Roda, 79\",\"admin_region\":\"Cataluña\",\"country\":\"ES\",\"cross_street\":\"C. de Pujades\",\"formatted_address\":\"Calle de Bac de Roda, 79 (C. de Pujades), 08005 Barcelona Catalunya\",\"locality\":\"Barcelona\",\"postcode\":\"08005\",\"region\":\"Catalunya\"},\"name\":\"BRKLYN Torrefaction\",\"related_places\":{},\"timezone\":\"Europe/Madrid\"},{\"fsq_id\":\"53651789498e5680783e44a8\",\"categories\":[{\"id\":13027,\"name\":\"Bistro\",\"short_name\":\"Bistro\",\"plural_name\":\"Bistros\",\"icon\":{\"prefix\":\"https://ss3.4sqi.net/img/categories_v2/food/default_\",\"suffix\":\".png\"}},{\"id\":13034,\"name\":\"Café\",\"short_name\":\"Café\",\"plural_name\":\"Cafés\",\"icon\":{\"prefix\":\"https://ss3.4sqi.net/img/categories_v2/food/cafe_\",\"suffix\":\".png\"}},{\"id\":13035,\"name\":\"Coffee Shop\",\"short_name\":\"Coffee Shop\",\"plural_name\":\"Coffee Shops\",\"icon\":{\"prefix\":\"https://ss3.4sqi.net/img/categories_v2/food/coffeeshop_\",\"suffix\":\".png\"}}],\"chains\":[],\"closed_bucket\":\"VeryLikelyOpen\",\"distance\":1717,\"geocodes\":{\"drop_off\":{\"latitude\":41.389326,\"longitude\":2.172945},\"main\":{\"latitude\":41.389425,\"longitude\":2.172869},\"roof\":{\"latitude\":41.389425,\"longitude\":2.172869}},\"link\":\"/v3/places/53651789498e5680783e44a8\",\"location\":{\"address\":\"Plaza Urquinaona, 4\",\"admin_region\":\"Cataluña\",\"country\":\"ES\",\"cross_street\":\"\",\"formatted_address\":\"Plaza Urquinaona, 4, 08010 Barcelona Catalunya\",\"locality\":\"Barcelona\",\"postcode\":\"08010\",\"region\":\"Catalunya\"},\"name\":\"Citizen Café\",\"related_places\":{},\"timezone\":\"Europe/Madrid\"}],\"context\":{\"geo_bounds\":{\"circle\":{\"center\":{\"latitude\":41.39778636452464,\"longitude\":2.1902063846574897},\"radius\":22000}}}}\n"
     ]
    }
   ],
   "source": [
    "import requests\n",
    "\n",
    "url = \"https://api.foursquare.com/v3/places/search?query=coffee&ll=41.39778636452464%2C2.1902063846574897&sort=DISTANCE&limit=10\"\n",
    "\n",
    "headers = {\n",
    "    \"accept\": \"application/json\",\n",
    "    \"Authorization\": token\n",
    "}\n",
    "\n",
    "response = requests.get(url, headers=headers)\n",
    "\n",
    "print(response.text)"
   ]
  },
  {
   "cell_type": "markdown",
   "id": "941b5dbf",
   "metadata": {},
   "source": [
    "# 3. Now get the 5 CLOSEST coffe places. Make use of params: limit, near?"
   ]
  },
  {
   "cell_type": "code",
   "execution_count": 15,
   "id": "fda8ddff",
   "metadata": {},
   "outputs": [
    {
     "name": "stdout",
     "output_type": "stream",
     "text": [
      "{\"results\":[{\"fsq_id\":\"556d6217498ef50c5d323048\",\"categories\":[{\"id\":13003,\"name\":\"Bar\",\"short_name\":\"Bar\",\"plural_name\":\"Bars\",\"icon\":{\"prefix\":\"https://ss3.4sqi.net/img/categories_v2/nightlife/pub_\",\"suffix\":\".png\"}},{\"id\":13035,\"name\":\"Coffee Shop\",\"short_name\":\"Coffee Shop\",\"plural_name\":\"Coffee Shops\",\"icon\":{\"prefix\":\"https://ss3.4sqi.net/img/categories_v2/food/coffeeshop_\",\"suffix\":\".png\"}}],\"chains\":[],\"closed_bucket\":\"VeryLikelyOpen\",\"distance\":462,\"geocodes\":{\"main\":{\"latitude\":41.397977,\"longitude\":2.195589},\"roof\":{\"latitude\":41.397977,\"longitude\":2.195589}},\"link\":\"/v3/places/556d6217498ef50c5d323048\",\"location\":{\"address\":\"Calle de Pujades, 95\",\"admin_region\":\"Cataluña\",\"country\":\"ES\",\"cross_street\":\"C. de Badajoz\",\"formatted_address\":\"Calle de Pujades, 95 (C. de Badajoz), 08005 Barcelona\",\"locality\":\"Barcelona\",\"postcode\":\"08005\"},\"name\":\"Nømad Roaster's Home\",\"related_places\":{},\"timezone\":\"Europe/Madrid\"},{\"fsq_id\":\"5b8521d489e490002cefef18\",\"categories\":[{\"id\":13035,\"name\":\"Coffee Shop\",\"short_name\":\"Coffee Shop\",\"plural_name\":\"Coffee Shops\",\"icon\":{\"prefix\":\"https://ss3.4sqi.net/img/categories_v2/food/coffeeshop_\",\"suffix\":\".png\"}},{\"id\":13065,\"name\":\"Restaurant\",\"short_name\":\"Restaurant\",\"plural_name\":\"Restaurants\",\"icon\":{\"prefix\":\"https://ss3.4sqi.net/img/categories_v2/food/default_\",\"suffix\":\".png\"}}],\"chains\":[],\"closed_bucket\":\"VeryLikelyOpen\",\"distance\":564,\"geocodes\":{\"main\":{\"latitude\":41.397168,\"longitude\":2.183123},\"roof\":{\"latitude\":41.397168,\"longitude\":2.183123}},\"link\":\"/v3/places/5b8521d489e490002cefef18\",\"location\":{\"address\":\"Calle D'Ausiàs Marc, 151\",\"admin_region\":\"Cataluña\",\"country\":\"ES\",\"formatted_address\":\"Calle D'Ausiàs Marc, 151, 08013 Barcelona Catalunya\",\"locality\":\"Barcelona\",\"postcode\":\"08013\",\"region\":\"Catalunya\"},\"name\":\"Three Marks Coffee\",\"related_places\":{},\"timezone\":\"Europe/Madrid\"},{\"fsq_id\":\"5af2b83ee7a237002c007e3c\",\"categories\":[{\"id\":13377,\"name\":\"Vegan and Vegetarian Restaurant\",\"short_name\":\"Vegan and Vegetarian Restaurant\",\"plural_name\":\"Vegan and Vegetarian Restaurants\",\"icon\":{\"prefix\":\"https://ss3.4sqi.net/img/categories_v2/food/vegetarian_\",\"suffix\":\".png\"}}],\"chains\":[],\"closed_bucket\":\"VeryLikelyOpen\",\"distance\":771,\"geocodes\":{\"drop_off\":{\"latitude\":41.402429,\"longitude\":2.197447},\"main\":{\"latitude\":41.402328,\"longitude\":2.197571},\"roof\":{\"latitude\":41.402328,\"longitude\":2.197571}},\"link\":\"/v3/places/5af2b83ee7a237002c007e3c\",\"location\":{\"address\":\"Calle Pere IV, 168\",\"admin_region\":\"Cataluña\",\"country\":\"ES\",\"cross_street\":\"C. Llacuna\",\"formatted_address\":\"Calle Pere IV, 168 (C. Llacuna), 08005 Barcelona Catalunya\",\"locality\":\"Barcelona\",\"postcode\":\"08005\",\"region\":\"Catalunya\"},\"name\":\"Little Fern\",\"related_places\":{},\"timezone\":\"Europe/Madrid\"},{\"fsq_id\":\"522a30c111d2768695717a75\",\"categories\":[{\"id\":13003,\"name\":\"Bar\",\"short_name\":\"Bar\",\"plural_name\":\"Bars\",\"icon\":{\"prefix\":\"https://ss3.4sqi.net/img/categories_v2/nightlife/pub_\",\"suffix\":\".png\"}},{\"id\":13034,\"name\":\"Café\",\"short_name\":\"Café\",\"plural_name\":\"Cafés\",\"icon\":{\"prefix\":\"https://ss3.4sqi.net/img/categories_v2/food/cafe_\",\"suffix\":\".png\"}},{\"id\":13065,\"name\":\"Restaurant\",\"short_name\":\"Restaurant\",\"plural_name\":\"Restaurants\",\"icon\":{\"prefix\":\"https://ss3.4sqi.net/img/categories_v2/food/default_\",\"suffix\":\".png\"}}],\"chains\":[],\"closed_bucket\":\"LikelyOpen\",\"distance\":1188,\"geocodes\":{\"drop_off\":{\"latitude\":41.400885,\"longitude\":2.203768},\"main\":{\"latitude\":41.400907,\"longitude\":2.203782},\"roof\":{\"latitude\":41.400907,\"longitude\":2.203782}},\"link\":\"/v3/places/522a30c111d2768695717a75\",\"location\":{\"address\":\"Carrer de Maria Aguilo, 99\",\"admin_region\":\"Cataluña\",\"country\":\"ES\",\"cross_street\":\"\",\"formatted_address\":\"Carrer de Maria Aguilo, 99, 08005 Barcelona Catalunya\",\"locality\":\"Barcelona\",\"postcode\":\"08005\",\"region\":\"Catalunya\"},\"name\":\"Ideal Poblenou\",\"related_places\":{},\"timezone\":\"Europe/Madrid\"},{\"fsq_id\":\"612fa77f21805f0d98b27ea6\",\"categories\":[{\"id\":13035,\"name\":\"Coffee Shop\",\"short_name\":\"Coffee Shop\",\"plural_name\":\"Coffee Shops\",\"icon\":{\"prefix\":\"https://ss3.4sqi.net/img/categories_v2/food/coffeeshop_\",\"suffix\":\".png\"}},{\"id\":13065,\"name\":\"Restaurant\",\"short_name\":\"Restaurant\",\"plural_name\":\"Restaurants\",\"icon\":{\"prefix\":\"https://ss3.4sqi.net/img/categories_v2/food/default_\",\"suffix\":\".png\"}}],\"chains\":[],\"closed_bucket\":\"VeryLikelyOpen\",\"distance\":1284,\"geocodes\":{\"drop_off\":{\"latitude\":41.40193,\"longitude\":2.175611},\"main\":{\"latitude\":41.401762,\"longitude\":2.175735},\"roof\":{\"latitude\":41.401762,\"longitude\":2.175735}},\"link\":\"/v3/places/612fa77f21805f0d98b27ea6\",\"location\":{\"address\":\"Calle Valencia, 418\",\"admin_region\":\"Cataluña\",\"country\":\"ES\",\"cross_street\":\"\",\"formatted_address\":\"Calle Valencia, 418, 08013 Barcelona Catalunya\",\"locality\":\"Barcelona\",\"postcode\":\"08013\",\"region\":\"Catalunya\"},\"name\":\"Blackbird Coffee Corner\",\"related_places\":{},\"timezone\":\"Europe/Madrid\"}],\"context\":{\"geo_bounds\":{\"circle\":{\"center\":{\"latitude\":41.39778636452464,\"longitude\":2.1902063846574897},\"radius\":22000}}}}\n"
     ]
    }
   ],
   "source": [
    "import requests\n",
    "\n",
    "url = \"https://api.foursquare.com/v3/places/search?query=coffee&ll=41.39778636452464%2C2.1902063846574897&sort=DISTANCE&limit=5\"\n",
    "\n",
    "headers = {\n",
    "    \"accept\": \"application/json\",\n",
    "    \"Authorization\": token\n",
    "}\n",
    "\n",
    "response = requests.get(url, headers=headers)\n",
    "\n",
    "print(response.text)"
   ]
  },
  {
   "cell_type": "markdown",
   "id": "d19904e8",
   "metadata": {},
   "source": [
    "# 4. You're very drained from the bootcamp. You need to find a bar where you are right now. "
   ]
  },
  {
   "cell_type": "markdown",
   "id": "24e81d17",
   "metadata": {},
   "source": [
    "But your colleague needs to find starbucks to work on the bonus. Your other colleage is not sure about what they want. Create a function so that you can pass any given venue (startbucks, restaurants, bars...) for any given location passed as coordinates. Limit your queries to 3."
   ]
  },
  {
   "cell_type": "code",
   "execution_count": 42,
   "id": "1fad5153",
   "metadata": {},
   "outputs": [
    {
     "data": {
      "text/plain": [
       "{'results': [{'fsq_id': '4bcc336168f976b0932f6283',\n",
       "   'categories': [{'id': 13035,\n",
       "     'name': 'Coffee Shop',\n",
       "     'short_name': 'Coffee Shop',\n",
       "     'plural_name': 'Coffee Shops',\n",
       "     'icon': {'prefix': 'https://ss3.4sqi.net/img/categories_v2/food/coffeeshop_',\n",
       "      'suffix': '.png'}}],\n",
       "   'chains': [{'id': 'ab4c54c0-d68a-012e-5619-003048cad9da',\n",
       "     'name': 'Starbucks'}],\n",
       "   'closed_bucket': 'VeryLikelyOpen',\n",
       "   'distance': 194,\n",
       "   'geocodes': {'main': {'latitude': 41.388022, 'longitude': 2.16794},\n",
       "    'roof': {'latitude': 41.388022, 'longitude': 2.16794}},\n",
       "   'link': '/v3/places/4bcc336168f976b0932f6283',\n",
       "   'location': {'address': 'Rambla de Catalunya, 10',\n",
       "    'admin_region': 'Cataluña',\n",
       "    'country': 'ES',\n",
       "    'formatted_address': 'Rambla de Catalunya, 10, 08007 Barcelona Catalunya',\n",
       "    'locality': 'Barcelona',\n",
       "    'postcode': '08007',\n",
       "    'region': 'Catalunya'},\n",
       "   'name': 'Starbucks',\n",
       "   'related_places': {},\n",
       "   'timezone': 'Europe/Madrid'},\n",
       "  {'fsq_id': '4b6d3d1ff964a520086d2ce3',\n",
       "   'categories': [{'id': 13035,\n",
       "     'name': 'Coffee Shop',\n",
       "     'short_name': 'Coffee Shop',\n",
       "     'plural_name': 'Coffee Shops',\n",
       "     'icon': {'prefix': 'https://ss3.4sqi.net/img/categories_v2/food/coffeeshop_',\n",
       "      'suffix': '.png'}}],\n",
       "   'chains': [{'id': 'ab4c54c0-d68a-012e-5619-003048cad9da',\n",
       "     'name': 'Starbucks'}],\n",
       "   'closed_bucket': 'VeryLikelyOpen',\n",
       "   'distance': 261,\n",
       "   'geocodes': {'main': {'latitude': 41.385779, 'longitude': 2.167932},\n",
       "    'roof': {'latitude': 41.385779, 'longitude': 2.167932}},\n",
       "   'link': '/v3/places/4b6d3d1ff964a520086d2ce3',\n",
       "   'location': {'address': 'Carrer de Pelai, 13-39',\n",
       "    'address_extended': 'C. Balmes',\n",
       "    'admin_region': 'Cataluña',\n",
       "    'country': 'ES',\n",
       "    'cross_street': 'C. Balmes',\n",
       "    'formatted_address': 'Carrer de Pelai, 13-39 (C. Balmes), 08001 Barcelona Catalunya',\n",
       "    'locality': 'Barcelona',\n",
       "    'postcode': '08001',\n",
       "    'region': 'Catalunya'},\n",
       "   'name': 'Starbucks',\n",
       "   'related_places': {'parent': {'fsq_id': '4b4b39eff964a520e29426e3',\n",
       "     'categories': [{'id': 17114,\n",
       "       'name': 'Shopping Mall',\n",
       "       'short_name': 'Mall',\n",
       "       'plural_name': 'Shopping Malls',\n",
       "       'icon': {'prefix': 'https://ss3.4sqi.net/img/categories_v2/shops/mall_',\n",
       "        'suffix': '.png'}}],\n",
       "     'name': 'El Triangle'}},\n",
       "   'timezone': 'Europe/Madrid'},\n",
       "  {'fsq_id': '4bbdc056a8cf76b06116b2fd',\n",
       "   'categories': [{'id': 13035,\n",
       "     'name': 'Coffee Shop',\n",
       "     'short_name': 'Coffee Shop',\n",
       "     'plural_name': 'Coffee Shops',\n",
       "     'icon': {'prefix': 'https://ss3.4sqi.net/img/categories_v2/food/coffeeshop_',\n",
       "      'suffix': '.png'}}],\n",
       "   'chains': [{'id': 'ab4c54c0-d68a-012e-5619-003048cad9da',\n",
       "     'name': 'Starbucks'}],\n",
       "   'closed_bucket': 'VeryLikelyOpen',\n",
       "   'distance': 450,\n",
       "   'geocodes': {'main': {'latitude': 41.383476, 'longitude': 2.171057},\n",
       "    'roof': {'latitude': 41.383476, 'longitude': 2.171057}},\n",
       "   'link': '/v3/places/4bbdc056a8cf76b06116b2fd',\n",
       "   'location': {'address': 'Rambla de Canaletes, 109',\n",
       "    'admin_region': 'Cataluña',\n",
       "    'country': 'ES',\n",
       "    'formatted_address': 'Rambla de Canaletes, 109, 08002 Barcelona Catalunya',\n",
       "    'locality': 'Barcelona',\n",
       "    'postcode': '08002',\n",
       "    'region': 'Catalunya'},\n",
       "   'name': 'Starbucks',\n",
       "   'related_places': {},\n",
       "   'timezone': 'Europe/Madrid'}],\n",
       " 'context': {'geo_bounds': {'circle': {'center': {'latitude': 41.387429626793676,\n",
       "     'longitude': 2.170122383338236},\n",
       "    'radius': 22000}}}}"
      ]
     },
     "execution_count": 42,
     "metadata": {},
     "output_type": "execute_result"
    }
   ],
   "source": [
    "def foursquare_places (venue, coordinates):\n",
    "    import requests\n",
    "\n",
    "    url = f\"https://api.foursquare.com/v3/places/search?query={venue}&ll={coordinates}&limit=3\"\n",
    "\n",
    "    headers = {\n",
    "    \"accept\": \"application/json\",\n",
    "    \"Authorization\": token\n",
    "}\n",
    "\n",
    "    response = requests.get(url, headers=headers)\n",
    "    return response.json()\n",
    "\n",
    "\n",
    "foursquare_places(\"starbucks\",\"41.387429626793676,2.170122383338236\")"
   ]
  },
  {
   "cell_type": "code",
   "execution_count": 43,
   "id": "32c612cb",
   "metadata": {},
   "outputs": [
    {
     "data": {
      "text/plain": [
       "{'results': [{'fsq_id': '4b096f96f964a520461723e3',\n",
       "   'categories': [{'id': 13035,\n",
       "     'name': 'Coffee Shop',\n",
       "     'short_name': 'Coffee Shop',\n",
       "     'plural_name': 'Coffee Shops',\n",
       "     'icon': {'prefix': 'https://ss3.4sqi.net/img/categories_v2/food/coffeeshop_',\n",
       "      'suffix': '.png'}}],\n",
       "   'chains': [{'id': 'ab4c54c0-d68a-012e-5619-003048cad9da',\n",
       "     'name': 'Starbucks'}],\n",
       "   'closed_bucket': 'VeryLikelyOpen',\n",
       "   'distance': 1112,\n",
       "   'geocodes': {'main': {'latitude': 53.555172, 'longitude': 9.991077},\n",
       "    'roof': {'latitude': 53.555172, 'longitude': 9.991077}},\n",
       "   'link': '/v3/places/4b096f96f964a520461723e3',\n",
       "   'location': {'address': 'Neuer Jungfernstieg 5',\n",
       "    'country': 'DE',\n",
       "    'cross_street': '',\n",
       "    'formatted_address': 'Neuer Jungfernstieg 5, 20354 Hamburg',\n",
       "    'locality': 'Hamburg',\n",
       "    'postcode': '20354',\n",
       "    'region': 'Hamburg'},\n",
       "   'name': 'Starbucks',\n",
       "   'related_places': {},\n",
       "   'timezone': 'Europe/Berlin'},\n",
       "  {'fsq_id': '4b06afd3f964a520a3ee22e3',\n",
       "   'categories': [{'id': 13035,\n",
       "     'name': 'Coffee Shop',\n",
       "     'short_name': 'Coffee Shop',\n",
       "     'plural_name': 'Coffee Shops',\n",
       "     'icon': {'prefix': 'https://ss3.4sqi.net/img/categories_v2/food/coffeeshop_',\n",
       "      'suffix': '.png'}}],\n",
       "   'chains': [{'id': 'ab4c54c0-d68a-012e-5619-003048cad9da',\n",
       "     'name': 'Starbucks'}],\n",
       "   'closed_bucket': 'VeryLikelyOpen',\n",
       "   'distance': 1475,\n",
       "   'geocodes': {'main': {'latitude': 53.551334, 'longitude': 10.001061},\n",
       "    'roof': {'latitude': 53.551334, 'longitude': 10.001061}},\n",
       "   'link': '/v3/places/4b06afd3f964a520a3ee22e3',\n",
       "   'location': {'address': 'Barkhof 3',\n",
       "    'country': 'DE',\n",
       "    'cross_street': '',\n",
       "    'formatted_address': 'Barkhof 3, 20095 Hamburg',\n",
       "    'locality': 'Hamburg',\n",
       "    'postcode': '20095',\n",
       "    'region': 'Hamburg'},\n",
       "   'name': 'Starbucks',\n",
       "   'related_places': {},\n",
       "   'timezone': 'Europe/Berlin'},\n",
       "  {'fsq_id': '4bbc708f2d9ea5936590a0ce',\n",
       "   'categories': [{'id': 13035,\n",
       "     'name': 'Coffee Shop',\n",
       "     'short_name': 'Coffee Shop',\n",
       "     'plural_name': 'Coffee Shops',\n",
       "     'icon': {'prefix': 'https://ss3.4sqi.net/img/categories_v2/food/coffeeshop_',\n",
       "      'suffix': '.png'}}],\n",
       "   'chains': [{'id': 'ab4c54c0-d68a-012e-5619-003048cad9da',\n",
       "     'name': 'Starbucks'}],\n",
       "   'closed_bucket': 'VeryLikelyOpen',\n",
       "   'distance': 1413,\n",
       "   'geocodes': {'main': {'latitude': 53.55179, 'longitude': 9.995167},\n",
       "    'roof': {'latitude': 53.55179, 'longitude': 9.995167}},\n",
       "   'link': '/v3/places/4bbc708f2d9ea5936590a0ce',\n",
       "   'location': {'address': 'Ballindamm 40',\n",
       "    'country': 'DE',\n",
       "    'formatted_address': 'Ballindamm 40, 20095 Hamburg',\n",
       "    'locality': 'Hamburg',\n",
       "    'postcode': '20095',\n",
       "    'region': 'Hamburg'},\n",
       "   'name': 'Starbucks',\n",
       "   'related_places': {'parent': {'fsq_id': '4af9b26ef964a520711322e3',\n",
       "     'categories': [{'id': 17114,\n",
       "       'name': 'Shopping Mall',\n",
       "       'short_name': 'Mall',\n",
       "       'plural_name': 'Shopping Malls',\n",
       "       'icon': {'prefix': 'https://ss3.4sqi.net/img/categories_v2/shops/mall_',\n",
       "        'suffix': '.png'}}],\n",
       "     'name': 'Europa Passage'}},\n",
       "   'timezone': 'Europe/Berlin'}],\n",
       " 'context': {'geo_bounds': {'circle': {'center': {'latitude': 53.56444047747594,\n",
       "     'longitude': 9.997465026003454},\n",
       "    'radius': 22000}}}}"
      ]
     },
     "execution_count": 43,
     "metadata": {},
     "output_type": "execute_result"
    }
   ],
   "source": [
    "foursquare_places(\"starbucks\",\"53.56444047747594,9.997465026003454\")"
   ]
  },
  {
   "cell_type": "code",
   "execution_count": 34,
   "id": "eee28be1",
   "metadata": {},
   "outputs": [],
   "source": [
    "# ej:  drinks = foursquare_places (\"starbucks\", [43, -3])"
   ]
  },
  {
   "cell_type": "markdown",
   "id": "1836c1a1",
   "metadata": {},
   "source": [
    "# 5. Export it into data folder as a json: `data/coffe_or_alcohol.json`"
   ]
  },
  {
   "cell_type": "markdown",
   "id": "c3ada1da",
   "metadata": {},
   "source": [
    "Call the function for your colleague, who wanted starbucks, and export the results of the three starbucks into a json file"
   ]
  },
  {
   "cell_type": "code",
   "execution_count": 44,
   "id": "7ac5f2a8",
   "metadata": {},
   "outputs": [
    {
     "data": {
      "text/plain": [
       "{'results': [{'fsq_id': '4b096f96f964a520461723e3',\n",
       "   'categories': [{'id': 13035,\n",
       "     'name': 'Coffee Shop',\n",
       "     'short_name': 'Coffee Shop',\n",
       "     'plural_name': 'Coffee Shops',\n",
       "     'icon': {'prefix': 'https://ss3.4sqi.net/img/categories_v2/food/coffeeshop_',\n",
       "      'suffix': '.png'}}],\n",
       "   'chains': [{'id': 'ab4c54c0-d68a-012e-5619-003048cad9da',\n",
       "     'name': 'Starbucks'}],\n",
       "   'closed_bucket': 'VeryLikelyOpen',\n",
       "   'distance': 1112,\n",
       "   'geocodes': {'main': {'latitude': 53.555172, 'longitude': 9.991077},\n",
       "    'roof': {'latitude': 53.555172, 'longitude': 9.991077}},\n",
       "   'link': '/v3/places/4b096f96f964a520461723e3',\n",
       "   'location': {'address': 'Neuer Jungfernstieg 5',\n",
       "    'country': 'DE',\n",
       "    'cross_street': '',\n",
       "    'formatted_address': 'Neuer Jungfernstieg 5, 20354 Hamburg',\n",
       "    'locality': 'Hamburg',\n",
       "    'postcode': '20354',\n",
       "    'region': 'Hamburg'},\n",
       "   'name': 'Starbucks',\n",
       "   'related_places': {},\n",
       "   'timezone': 'Europe/Berlin'},\n",
       "  {'fsq_id': '4b06afd3f964a520a3ee22e3',\n",
       "   'categories': [{'id': 13035,\n",
       "     'name': 'Coffee Shop',\n",
       "     'short_name': 'Coffee Shop',\n",
       "     'plural_name': 'Coffee Shops',\n",
       "     'icon': {'prefix': 'https://ss3.4sqi.net/img/categories_v2/food/coffeeshop_',\n",
       "      'suffix': '.png'}}],\n",
       "   'chains': [{'id': 'ab4c54c0-d68a-012e-5619-003048cad9da',\n",
       "     'name': 'Starbucks'}],\n",
       "   'closed_bucket': 'VeryLikelyOpen',\n",
       "   'distance': 1475,\n",
       "   'geocodes': {'main': {'latitude': 53.551334, 'longitude': 10.001061},\n",
       "    'roof': {'latitude': 53.551334, 'longitude': 10.001061}},\n",
       "   'link': '/v3/places/4b06afd3f964a520a3ee22e3',\n",
       "   'location': {'address': 'Barkhof 3',\n",
       "    'country': 'DE',\n",
       "    'cross_street': '',\n",
       "    'formatted_address': 'Barkhof 3, 20095 Hamburg',\n",
       "    'locality': 'Hamburg',\n",
       "    'postcode': '20095',\n",
       "    'region': 'Hamburg'},\n",
       "   'name': 'Starbucks',\n",
       "   'related_places': {},\n",
       "   'timezone': 'Europe/Berlin'},\n",
       "  {'fsq_id': '4bbc708f2d9ea5936590a0ce',\n",
       "   'categories': [{'id': 13035,\n",
       "     'name': 'Coffee Shop',\n",
       "     'short_name': 'Coffee Shop',\n",
       "     'plural_name': 'Coffee Shops',\n",
       "     'icon': {'prefix': 'https://ss3.4sqi.net/img/categories_v2/food/coffeeshop_',\n",
       "      'suffix': '.png'}}],\n",
       "   'chains': [{'id': 'ab4c54c0-d68a-012e-5619-003048cad9da',\n",
       "     'name': 'Starbucks'}],\n",
       "   'closed_bucket': 'VeryLikelyOpen',\n",
       "   'distance': 1413,\n",
       "   'geocodes': {'main': {'latitude': 53.55179, 'longitude': 9.995167},\n",
       "    'roof': {'latitude': 53.55179, 'longitude': 9.995167}},\n",
       "   'link': '/v3/places/4bbc708f2d9ea5936590a0ce',\n",
       "   'location': {'address': 'Ballindamm 40',\n",
       "    'country': 'DE',\n",
       "    'formatted_address': 'Ballindamm 40, 20095 Hamburg',\n",
       "    'locality': 'Hamburg',\n",
       "    'postcode': '20095',\n",
       "    'region': 'Hamburg'},\n",
       "   'name': 'Starbucks',\n",
       "   'related_places': {'parent': {'fsq_id': '4af9b26ef964a520711322e3',\n",
       "     'categories': [{'id': 17114,\n",
       "       'name': 'Shopping Mall',\n",
       "       'short_name': 'Mall',\n",
       "       'plural_name': 'Shopping Malls',\n",
       "       'icon': {'prefix': 'https://ss3.4sqi.net/img/categories_v2/shops/mall_',\n",
       "        'suffix': '.png'}}],\n",
       "     'name': 'Europa Passage'}},\n",
       "   'timezone': 'Europe/Berlin'}],\n",
       " 'context': {'geo_bounds': {'circle': {'center': {'latitude': 53.56444047747594,\n",
       "     'longitude': 9.997465026003454},\n",
       "    'radius': 22000}}}}"
      ]
     },
     "execution_count": 44,
     "metadata": {},
     "output_type": "execute_result"
    }
   ],
   "source": [
    "foursquare_places(\"starbucks\",\"53.56444047747594,9.997465026003454\")"
   ]
  },
  {
   "cell_type": "markdown",
   "id": "2d77e99d",
   "metadata": {},
   "source": [
    "# BONUS: load it into MongoDB in a collection named \"irondrinks\" using pymongo"
   ]
  },
  {
   "cell_type": "code",
   "execution_count": null,
   "id": "85b94955",
   "metadata": {},
   "outputs": [],
   "source": [
    "# your code here"
   ]
  }
 ],
 "metadata": {
  "kernelspec": {
   "display_name": "ironhack",
   "language": "python",
   "name": "ironhack"
  },
  "language_info": {
   "codemirror_mode": {
    "name": "ipython",
    "version": 3
   },
   "file_extension": ".py",
   "mimetype": "text/x-python",
   "name": "python",
   "nbconvert_exporter": "python",
   "pygments_lexer": "ipython3",
   "version": "3.11.5"
  },
  "nbTranslate": {
   "displayLangs": [
    "en",
    "es"
   ],
   "hotkey": "alt-a",
   "langInMainMenu": true,
   "sourceLang": "es",
   "targetLang": "en",
   "useGoogleTranslate": true
  },
  "toc": {
   "base_numbering": 1,
   "nav_menu": {},
   "number_sections": true,
   "sideBar": true,
   "skip_h1_title": false,
   "title_cell": "Table of Contents",
   "title_sidebar": "Contents",
   "toc_cell": false,
   "toc_position": {},
   "toc_section_display": true,
   "toc_window_display": false
  }
 },
 "nbformat": 4,
 "nbformat_minor": 5
}
