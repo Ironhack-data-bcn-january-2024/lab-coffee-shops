{
 "cells": [
  {
   "cell_type": "markdown",
   "id": "0809e785",
   "metadata": {},
   "source": [
    "# 1. Import the necessary libraries for you to be able to query 4square API"
   ]
  },
  {
   "cell_type": "code",
   "execution_count": 1,
   "id": "9b373771",
   "metadata": {},
   "outputs": [],
   "source": [
    "import requests\n",
    "import json\n",
    "import pandas as pd\n",
    "from getpass import getpass"
   ]
  },
  {
   "cell_type": "markdown",
   "id": "e94dce92",
   "metadata": {},
   "source": [
    "# 2. Get names and location of the 10 coffee places by passing Ironhack as your location"
   ]
  },
  {
   "cell_type": "code",
   "execution_count": 25,
   "id": "1d72f571",
   "metadata": {},
   "outputs": [],
   "source": [
    "import requests\n",
    "\n",
    "url = \"https://api.foursquare.com/v3/places/search?query=coffe&ll=41.3970958%2C2.1894367&radius=2000&limit=10\"\n",
    "\n",
    "headers = {\n",
    "    \"accept\": \"application/json\",\n",
    "    \"Authorization\": token\n",
    "}\n",
    "# el json() es como el parse de web scraping \n",
    "response = requests.get(url, headers=headers).json()\n",
    "\n",
    "#print(response.text)"
   ]
  },
  {
   "cell_type": "code",
   "execution_count": 54,
   "id": "b2c0681b",
   "metadata": {},
   "outputs": [
    {
     "name": "stdout",
     "output_type": "stream",
     "text": [
      "Nømad Coffee Lab & Shop --> Location (41.388989,2.177167)\n",
      "Cafés el Magnífico --> Location (41.383541,2.180957)\n",
      "SKYE Coffee Co --> Location (41.396937,2.191519)\n",
      "Three Marks Coffee --> Location (41.397168,2.183123)\n",
      "El Petit Princep --> Location (41.396371,2.177069)\n",
      "Nømad Roaster's Home --> Location (41.397977,2.195589)\n",
      "Little Fern --> Location (41.402328,2.197571)\n",
      "La Masala Cafe --> Location (41.388428,2.177862)\n",
      "MAG by el Magnífico --> Location (41.38419,2.180458)\n",
      "Citizen Café --> Location (41.389425,2.172869)\n"
     ]
    }
   ],
   "source": [
    "name = response[\"results\"][0][\"name\"]\n",
    "lon = response[\"results\"][0][\"geocodes\"][\"main\"][\"longitude\"]\n",
    "lat = response[\"results\"][0][\"geocodes\"][\"main\"][\"latitude\"]\n",
    "\n",
    "for i in response[\"results\"]:\n",
    "    \n",
    "    name = i[\"name\"]\n",
    "    lon = i[\"geocodes\"][\"main\"][\"longitude\"]\n",
    "    lat = i[\"geocodes\"][\"main\"][\"latitude\"] \n",
    "\n",
    "    print(f\"{name} --> Location ({lat},{lon})\")"
   ]
  },
  {
   "cell_type": "markdown",
   "id": "941b5dbf",
   "metadata": {},
   "source": [
    "# 3. Now get the 5 CLOSEST coffe places. Make use of params: limit, near?"
   ]
  },
  {
   "cell_type": "code",
   "execution_count": 68,
   "id": "fda8ddff",
   "metadata": {},
   "outputs": [],
   "source": [
    "import requests\n",
    "\n",
    "url = \"https://api.foursquare.com/v3/places/search?query=coffe&ll=41.3970958%2C2.1894367&radius=2000&fields=name%2Cgeocodes&sort=DISTANCE&limit=10\"\n",
    "\n",
    "headers = {\n",
    "    \"accept\": \"application/json\",\n",
    "    \"Authorization\": token\n",
    "}\n",
    "\n",
    "response = requests.get(url, headers=headers).json()"
   ]
  },
  {
   "cell_type": "code",
   "execution_count": 71,
   "id": "1aaaf81f",
   "metadata": {},
   "outputs": [
    {
     "name": "stdout",
     "output_type": "stream",
     "text": [
      "SKYE Coffee Co --> Location (41.396937,2.191519)\n",
      "Granja Mabel --> Location (41.394816,2.187354)\n",
      "Cacho --> Location (41.393082,2.191038)\n",
      "Three Marks Coffee --> Location (41.397168,2.183123)\n",
      "Nømad Roaster's Home --> Location (41.397977,2.195589)\n",
      "Cafeteria Industrial --> Location (41.399175,2.195368)\n",
      "Parc de l'Estació del Nord --> Location (41.393492,2.183971)\n",
      "Gabby's Brunch --> Location (41.395172,2.19645)\n",
      "Juice Dudes --> Location (41.391994,2.186526)\n",
      "All you eat is love --> Location (41.39171,2.191429)\n"
     ]
    }
   ],
   "source": [
    "for i in response[\"results\"]:\n",
    "    \n",
    "    name = i[\"name\"]\n",
    "    lon = i[\"geocodes\"][\"main\"][\"longitude\"]\n",
    "    lat = i[\"geocodes\"][\"main\"][\"latitude\"] \n",
    "\n",
    "    print(f\"{name} --> Location ({lat},{lon})\")"
   ]
  },
  {
   "cell_type": "markdown",
   "id": "d19904e8",
   "metadata": {},
   "source": [
    "# 4. You're very drained from the bootcamp. You need to find a bar where you are right now. "
   ]
  },
  {
   "cell_type": "markdown",
   "id": "24e81d17",
   "metadata": {},
   "source": [
    "But your colleague needs to find starbucks to work on the bonus. Your other colleage is not sure about what they want. Create a function so that you can pass any given venue (startbucks, restaurants, bars...) for any given location passed as coordinates. Limit your queries to 3."
   ]
  },
  {
   "cell_type": "code",
   "execution_count": 74,
   "id": "1fad5153",
   "metadata": {},
   "outputs": [],
   "source": [
    "def foursquare_places (venue, coor):\n",
    "\n",
    "    url = f\"https://api.foursquare.com/v3/places/search?query={venue}&ll={coor[0]}%2C{coor[1]}&sort=DISTANCE\"\n",
    "\n",
    "    headers = {\n",
    "        \"accept\": \"application/json\",\n",
    "        \"Authorization\": token\n",
    "    }\n",
    "    \n",
    "    params = {\"limit\":3}\n",
    "\n",
    "    response = requests.get(url, headers=headers, params= params).json()\n",
    "\n",
    "    return response"
   ]
  },
  {
   "cell_type": "code",
   "execution_count": 79,
   "id": "eee28be1",
   "metadata": {},
   "outputs": [],
   "source": [
    "data = foursquare_places (\"bar\", [43, -3])"
   ]
  },
  {
   "cell_type": "markdown",
   "id": "c3ada1da",
   "metadata": {},
   "source": [
    "# 5. Export to csv file\n",
    "\n",
    "Call the function for your colleague, who wanted starbucks, and export the results of the three starbucks into a json file"
   ]
  },
  {
   "cell_type": "code",
   "execution_count": 90,
   "id": "7ac5f2a8",
   "metadata": {},
   "outputs": [],
   "source": [
    "def export_to_json(data, filename):\n",
    "    \"\"\"\n",
    "    Function to export data to a JSON file.\n",
    "    \"\"\"\n",
    "    with open(\"data/\"+filename, 'w') as json_file:\n",
    "        json.dump(data, json_file, indent=4)"
   ]
  },
  {
   "cell_type": "code",
   "execution_count": 91,
   "id": "90aaf783",
   "metadata": {},
   "outputs": [],
   "source": [
    "export_to_json(data,\"cofe_alcohol\")"
   ]
  },
  {
   "cell_type": "markdown",
   "id": "2d77e99d",
   "metadata": {},
   "source": [
    "# BONUS: load it into MongoDB in a collection named \"irondrinks\" using pymongo"
   ]
  },
  {
   "cell_type": "code",
   "execution_count": null,
   "id": "85b94955",
   "metadata": {},
   "outputs": [],
   "source": [
    "# your code here"
   ]
  }
 ],
 "metadata": {
  "kernelspec": {
   "display_name": "ironhack",
   "language": "python",
   "name": "ironhack"
  },
  "language_info": {
   "codemirror_mode": {
    "name": "ipython",
    "version": 3
   },
   "file_extension": ".py",
   "mimetype": "text/x-python",
   "name": "python",
   "nbconvert_exporter": "python",
   "pygments_lexer": "ipython3",
   "version": "3.11.5"
  },
  "nbTranslate": {
   "displayLangs": [
    "en",
    "es"
   ],
   "hotkey": "alt-a",
   "langInMainMenu": true,
   "sourceLang": "es",
   "targetLang": "en",
   "useGoogleTranslate": true
  },
  "toc": {
   "base_numbering": 1,
   "nav_menu": {},
   "number_sections": true,
   "sideBar": true,
   "skip_h1_title": false,
   "title_cell": "Table of Contents",
   "title_sidebar": "Contents",
   "toc_cell": false,
   "toc_position": {},
   "toc_section_display": true,
   "toc_window_display": false
  }
 },
 "nbformat": 4,
 "nbformat_minor": 5
}
